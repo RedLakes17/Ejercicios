{
 "cells": [
  {
   "cell_type": "code",
   "execution_count": 1,
   "id": "932a8476",
   "metadata": {},
   "outputs": [
    {
     "name": "stdout",
     "output_type": "stream",
     "text": [
      "tensor([[ 0.0262,  0.0833, -0.0098],\n",
      "        [ 1.0173, -0.0128, -2.1485],\n",
      "        [-0.0077,  3.1505, -0.0656]])\n",
      "tensor(0.0262)\n",
      "torch.Size([2, 1])\n"
     ]
    }
   ],
   "source": [
    "import torch \n",
    "\n",
    "t1, t2 = torch.randn(2,3,3)\n",
    "\n",
    "sum = t1 + t2\n",
    "\n",
    "mult = t1 * t2\n",
    "print(mult)\n",
    "\n",
    "print(mult[0,0])\n",
    "\n",
    "t2 = torch.tensor([[2.0],[1.0]])\n",
    "print(t2.shape)"
   ]
  },
  {
   "cell_type": "code",
   "execution_count": 2,
   "id": "a466687d",
   "metadata": {},
   "outputs": [
    {
     "name": "stdout",
     "output_type": "stream",
     "text": [
      "tensor([[ 0.0262,  0.0833, -0.0098,  1.0173, -0.0128, -2.1485, -0.0077,  3.1505,\n",
      "         -0.0656]])\n",
      "tensor([ 0.0262,  0.0833, -0.0098,  1.0173, -0.0128, -2.1485, -0.0077,  3.1505,\n",
      "        -0.0656])\n"
     ]
    }
   ],
   "source": [
    "cambio = mult.view(1,9)\n",
    "print(cambio)\n",
    "\n",
    "cambio2 = mult.view(-1)\n",
    "print(cambio2)"
   ]
  },
  {
   "cell_type": "code",
   "execution_count": 3,
   "id": "fd933013",
   "metadata": {},
   "outputs": [
    {
     "name": "stdout",
     "output_type": "stream",
     "text": [
      "tensor([7.])\n"
     ]
    }
   ],
   "source": [
    "x = torch.tensor([2.0], requires_grad=True)\n",
    "y = x**2 + 3*x + 2\n",
    "y.backward()\n",
    "print(x.grad)\n"
   ]
  },
  {
   "cell_type": "code",
   "execution_count": 4,
   "id": "3c111b63",
   "metadata": {},
   "outputs": [
    {
     "name": "stdout",
     "output_type": "stream",
     "text": [
      "tensor([0.5342], grad_fn=<SigmoidBackward0>)\n"
     ]
    }
   ],
   "source": [
    "#Construccion de un modelo\n",
    "import torch.nn as nn\n",
    "\n",
    "class SimpleNet(nn.Module):\n",
    "    def __init__(self):\n",
    "        super().__init__()\n",
    "        self.LL1 = nn.Linear(2,1)\n",
    "        self.act1 = nn.Sigmoid()\n",
    "    \n",
    "    def forward(self, x):\n",
    "        return self.act1(self.LL1(x))\n",
    "    \n",
    "tensor = torch.tensor([1.0, 2.0])\n",
    "model = SimpleNet()\n",
    "\n",
    "output = model(tensor)\n",
    "print(output)"
   ]
  },
  {
   "cell_type": "code",
   "execution_count": 5,
   "id": "d2c06b32",
   "metadata": {},
   "outputs": [
    {
     "name": "stdout",
     "output_type": "stream",
     "text": [
      "tensor([[9, 7, 3],\n",
      "        [5, 4, 6],\n",
      "        [7, 8, 2]], dtype=torch.int32)\n",
      "tensor(6.0711, dtype=torch.float64)\n",
      "tensor(2.5167, dtype=torch.float64)\n",
      "[[9.98 7.08 3.18]\n",
      " [5.82 4.58 6.25]\n",
      " [7.12 8.59 2.04]]\n",
      "tensor([[9.9800, 7.0800, 3.1800],\n",
      "        [5.8200, 4.5800, 6.2500],\n",
      "        [7.1200, 8.5900, 2.0400]], dtype=torch.float64)\n"
     ]
    },
    {
     "name": "stderr",
     "output_type": "stream",
     "text": [
      "C:\\Users\\karl1\\AppData\\Local\\Temp\\ipykernel_21088\\3967746375.py:20: DeprecationWarning: __array__ implementation doesn't accept a copy keyword, so passing copy=False failed. __array__ must implement 'dtype' and 'copy' keyword arguments. To learn more, see the migration guide https://numpy.org/devdocs/numpy_2_0_migration_guide.html#adapting-to-changes-in-the-copy-keyword\n",
      "  array = np.array(tensor1)\n"
     ]
    }
   ],
   "source": [
    "'''1️ Crea un tensor 3x3 con valores aleatorios entre 0 y 1.\n",
    "2️ Multiplica todos los elementos por 10 y conviértelos a enteros.\n",
    "3️ Selecciona la fila con el valor máximo en la segunda columna.\n",
    "4️ Aplica mean y std (media y desviación) al tensor.\n",
    "5️ Convierte el tensor a un array de NumPy y viceversa'''\n",
    "\n",
    "import torch\n",
    "import numpy as np\n",
    "\n",
    "matriz1 = np.round(np.random.rand(3,3),3)\n",
    "tensor1 = torch.tensor(matriz1)\n",
    "\n",
    "tensor1 = tensor1 * 10\n",
    "tensor2 = tensor1.int()\n",
    "print(tensor2)\n",
    "\n",
    "print(tensor1.mean())\n",
    "print(tensor1.std())\n",
    "\n",
    "array = np.array(tensor1)\n",
    "print(array)\n",
    "tensor = torch.tensor(array)\n",
    "print(tensor)\n",
    "\n"
   ]
  }
 ],
 "metadata": {
  "kernelspec": {
   "display_name": "Python 3",
   "language": "python",
   "name": "python3"
  },
  "language_info": {
   "codemirror_mode": {
    "name": "ipython",
    "version": 3
   },
   "file_extension": ".py",
   "mimetype": "text/x-python",
   "name": "python",
   "nbconvert_exporter": "python",
   "pygments_lexer": "ipython3",
   "version": "3.11.9"
  }
 },
 "nbformat": 4,
 "nbformat_minor": 5
}

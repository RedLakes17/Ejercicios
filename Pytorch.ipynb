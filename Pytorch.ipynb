{
 "cells": [
  {
   "cell_type": "code",
   "execution_count": 51,
   "id": "932a8476",
   "metadata": {},
   "outputs": [
    {
     "name": "stdout",
     "output_type": "stream",
     "text": [
      "tensor([[-3.7530e+00, -1.2007e-01, -3.6612e-01],\n",
      "        [ 5.8468e-02, -1.2991e+00, -2.5813e-02],\n",
      "        [ 6.1459e-01, -3.7226e-03,  2.3706e-01]])\n",
      "tensor(-3.7530)\n",
      "torch.Size([2, 1])\n"
     ]
    }
   ],
   "source": [
    "import torch \n",
    "\n",
    "t1, t2 = torch.randn(2,3,3)\n",
    "\n",
    "sum = t1 + t2\n",
    "\n",
    "mult = t1 * t2\n",
    "print(mult)\n",
    "\n",
    "print(mult[0,0])\n",
    "\n",
    "t2 = torch.tensor([[2.0],[1.0]])\n",
    "print(t2.shape)"
   ]
  },
  {
   "cell_type": "code",
   "execution_count": 33,
   "id": "a466687d",
   "metadata": {},
   "outputs": [
    {
     "name": "stdout",
     "output_type": "stream",
     "text": [
      "tensor([[ 2.1639e-02,  2.8293e-01, -6.0509e-01, -2.7317e-01,  1.0975e-01,\n",
      "         -4.8090e-01,  7.0535e-01, -2.6078e-04, -7.3655e-01]])\n",
      "tensor([ 2.1639e-02,  2.8293e-01, -6.0509e-01, -2.7317e-01,  1.0975e-01,\n",
      "        -4.8090e-01,  7.0535e-01, -2.6078e-04, -7.3655e-01])\n"
     ]
    }
   ],
   "source": [
    "cambio = mult.view(1,9)\n",
    "print(cambio)\n",
    "\n",
    "cambio2 = mult.view(-1)\n",
    "print(cambio2)"
   ]
  },
  {
   "cell_type": "code",
   "execution_count": 45,
   "id": "fd933013",
   "metadata": {},
   "outputs": [
    {
     "name": "stdout",
     "output_type": "stream",
     "text": [
      "tensor([7.])\n"
     ]
    }
   ],
   "source": [
    "x = torch.tensor([2.0], requires_grad=True)\n",
    "y = x**2 + 3*x + 2\n",
    "y.backward()\n",
    "print(x.grad)\n"
   ]
  },
  {
   "cell_type": "code",
   "execution_count": 50,
   "id": "3c111b63",
   "metadata": {},
   "outputs": [
    {
     "name": "stdout",
     "output_type": "stream",
     "text": [
      "tensor([0.5223], grad_fn=<SigmoidBackward0>)\n"
     ]
    }
   ],
   "source": [
    "#Construccion de un modelo\n",
    "import torch.nn as nn\n",
    "\n",
    "class SimpleNet(nn.Module):\n",
    "    def __init__(self):\n",
    "        super().__init__()\n",
    "        self.LL1 = nn.Linear(2,1)\n",
    "        self.act1 = nn.Sigmoid()\n",
    "    \n",
    "    def forward(self, x):\n",
    "        return self.act1(self.LL1(x))\n",
    "    \n",
    "tensor = torch.tensor([1.0, 2.0])\n",
    "model = SimpleNet()\n",
    "\n",
    "output = model(tensor)\n",
    "print(output)"
   ]
  }
 ],
 "metadata": {
  "kernelspec": {
   "display_name": "Python 3",
   "language": "python",
   "name": "python3"
  },
  "language_info": {
   "codemirror_mode": {
    "name": "ipython",
    "version": 3
   },
   "file_extension": ".py",
   "mimetype": "text/x-python",
   "name": "python",
   "nbconvert_exporter": "python",
   "pygments_lexer": "ipython3",
   "version": "3.11.9"
  }
 },
 "nbformat": 4,
 "nbformat_minor": 5
}

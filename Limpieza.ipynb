{
 "cells": [
  {
   "cell_type": "code",
   "execution_count": 259,
   "id": "4f892060",
   "metadata": {},
   "outputs": [
    {
     "name": "stdout",
     "output_type": "stream",
     "text": [
      "            nombre  edad  salario      departamento fecha_ingreso  \\\n",
      "id                                                                  \n",
      "1        Ana Gómez  29.0  45000.0  Recursos Humanos    2018-05-12   \n",
      "2       Juan Perez   NaN  52000.0            Ventas    2019-07-01   \n",
      "3              NaN  35.0  60000.0                IT    2020-03-15   \n",
      "4      Pedro López  41.0      NaN                IT    2017-11-30   \n",
      "5        Ana Gómez  29.0  45000.0  Recursos Humanos    2018-05-12   \n",
      "6      Carlos Ruiz  28.0  38000.0               NaN    2021-01-20   \n",
      "7   Laura Martínez  33.0      NaN         Marketing    2019-08-25   \n",
      "8       Juan Perez  38.0  52000.0            VENTAS    2019-07-01   \n",
      "9    Miguel Torres  27.0  42000.0                IT    2022-09-10   \n",
      "10            1234   NaN      NaN  Recursos Humanos    2018-13-40   \n",
      "\n",
      "                         email  \n",
      "id                              \n",
      "1        ana.gomez@empresa.com  \n",
      "2           juan.perez@empresa  \n",
      "3      maria.lopez@empresa.com  \n",
      "4      pedro.lopez@empresa.com  \n",
      "5        ana.gomez@empresa.com  \n",
      "6                          NaN  \n",
      "7   laura.martinez@empresa.com  \n",
      "8       juan.perez@empresa.com  \n",
      "9        miguel.torres@empresa  \n",
      "10           invalido@@empresa  \n",
      "nombre            object\n",
      "edad             float64\n",
      "salario          float64\n",
      "departamento      object\n",
      "fecha_ingreso     object\n",
      "email             object\n",
      "dtype: object\n"
     ]
    }
   ],
   "source": [
    "'''Carga el archivo empleados.csv con pandas. Muestra las primeras filas y revisa los tipos de datos.'''\n",
    "import pandas as pd \n",
    "\n",
    "empleados = pd.read_csv('empleados.csv')\n",
    "empleados.set_index(['id'], inplace=True)\n",
    "print(empleados)\n",
    "print(empleados.dtypes)"
   ]
  },
  {
   "cell_type": "code",
   "execution_count": 260,
   "id": "4e179391",
   "metadata": {},
   "outputs": [
    {
     "name": "stdout",
     "output_type": "stream",
     "text": [
      "nombre           1\n",
      "edad             2\n",
      "salario          3\n",
      "departamento     1\n",
      "fecha_ingreso    0\n",
      "email            1\n",
      "dtype: int64\n",
      "            nombre  edad  salario      departamento fecha_ingreso  \\\n",
      "id                                                                  \n",
      "1        Ana Gómez  29.0  45000.0  Recursos Humanos    2018-05-12   \n",
      "2       Juan Perez  32.5  52000.0            Ventas    2019-07-01   \n",
      "3              NaN  35.0  60000.0                IT    2020-03-15   \n",
      "4      Pedro López  41.0  45000.0                IT    2017-11-30   \n",
      "5        Ana Gómez  29.0  45000.0  Recursos Humanos    2018-05-12   \n",
      "6      Carlos Ruiz  28.0  38000.0       Desconocido    2021-01-20   \n",
      "7   Laura Martínez  33.0  45000.0         Marketing    2019-08-25   \n",
      "8       Juan Perez  38.0  52000.0            VENTAS    2019-07-01   \n",
      "9    Miguel Torres  27.0  42000.0                IT    2022-09-10   \n",
      "10            1234  32.5  45000.0  Recursos Humanos    2018-13-40   \n",
      "\n",
      "                         email  \n",
      "id                              \n",
      "1        ana.gomez@empresa.com  \n",
      "2           juan.perez@empresa  \n",
      "3      maria.lopez@empresa.com  \n",
      "4      pedro.lopez@empresa.com  \n",
      "5        ana.gomez@empresa.com  \n",
      "6                          NaN  \n",
      "7   laura.martinez@empresa.com  \n",
      "8       juan.perez@empresa.com  \n",
      "9        miguel.torres@empresa  \n",
      "10           invalido@@empresa  \n"
     ]
    }
   ],
   "source": [
    "'''Encuentra las columnas con valores faltantes.\n",
    "Rellena la edad faltante con la media o mediana.\n",
    "Rellena los salarios faltantes con la mediana del salario.\n",
    "Para el departamento faltante, reemplázalo con \"Desconocido\". '''\n",
    "\n",
    "print(empleados.isnull().sum())\n",
    "empleados.loc[empleados['edad'].isnull(), 'edad'] = empleados['edad'].mean()\n",
    "empleados.loc[empleados['salario'].isnull(), 'salario'] = empleados['salario'].median()\n",
    "empleados.loc[empleados['departamento'].isnull(), 'departamento'] = 'Desconocido'\n",
    "print(empleados)\n",
    "\n"
   ]
  },
  {
   "cell_type": "code",
   "execution_count": 261,
   "id": "781da693",
   "metadata": {},
   "outputs": [
    {
     "name": "stdout",
     "output_type": "stream",
     "text": [
      "1\n",
      "            nombre  edad  salario      departamento fecha_ingreso  \\\n",
      "id                                                                  \n",
      "1        Ana Gómez  29.0  45000.0  Recursos Humanos    2018-05-12   \n",
      "2       Juan Perez  32.5  52000.0            Ventas    2019-07-01   \n",
      "3              NaN  35.0  60000.0                IT    2020-03-15   \n",
      "4      Pedro López  41.0  45000.0                IT    2017-11-30   \n",
      "6      Carlos Ruiz  28.0  38000.0       Desconocido    2021-01-20   \n",
      "7   Laura Martínez  33.0  45000.0         Marketing    2019-08-25   \n",
      "8       Juan Perez  38.0  52000.0            VENTAS    2019-07-01   \n",
      "9    Miguel Torres  27.0  42000.0                IT    2022-09-10   \n",
      "10            1234  32.5  45000.0  Recursos Humanos    2018-13-40   \n",
      "\n",
      "                         email  \n",
      "id                              \n",
      "1        ana.gomez@empresa.com  \n",
      "2           juan.perez@empresa  \n",
      "3      maria.lopez@empresa.com  \n",
      "4      pedro.lopez@empresa.com  \n",
      "6                          NaN  \n",
      "7   laura.martinez@empresa.com  \n",
      "8       juan.perez@empresa.com  \n",
      "9        miguel.torres@empresa  \n",
      "10           invalido@@empresa  \n"
     ]
    }
   ],
   "source": [
    "'''Identifica filas duplicadas.\n",
    "Elimina duplicados dejando solo la primera aparición.'''\n",
    "\n",
    "print(empleados.duplicated().sum())\n",
    "empleados.drop_duplicates(inplace=True)\n",
    "#empleados.reset_index(drop=True, inplace=True)\n",
    "print(empleados)\n"
   ]
  },
  {
   "cell_type": "code",
   "execution_count": 262,
   "id": "cc34c127",
   "metadata": {},
   "outputs": [
    {
     "name": "stdout",
     "output_type": "stream",
     "text": [
      "            nombre  edad  salario      departamento fecha_ingreso  \\\n",
      "id                                                                  \n",
      "1        Ana Gómez  29.0  45000.0  recursos humanos    2018-05-12   \n",
      "2       Juan Perez  32.5  52000.0            ventas    2019-07-01   \n",
      "3              NaN  35.0  60000.0                it    2020-03-15   \n",
      "4      Pedro López  41.0  45000.0                it    2017-11-30   \n",
      "6      Carlos Ruiz  28.0  38000.0       desconocido    2021-01-20   \n",
      "7   Laura Martínez  33.0  45000.0         marketing    2019-08-25   \n",
      "8       Juan Perez  38.0  52000.0            ventas    2019-07-01   \n",
      "9    Miguel Torres  27.0  42000.0                it    2022-09-10   \n",
      "10            1234  32.5  45000.0  recursos humanos    2018-13-40   \n",
      "\n",
      "                         email  \n",
      "id                              \n",
      "1        ana.gomez@empresa.com  \n",
      "2           juan.perez@empresa  \n",
      "3      maria.lopez@empresa.com  \n",
      "4      pedro.lopez@empresa.com  \n",
      "6                          NaN  \n",
      "7   laura.martinez@empresa.com  \n",
      "8       juan.perez@empresa.com  \n",
      "9        miguel.torres@empresa  \n",
      "10           invalido@@empresa  \n"
     ]
    }
   ],
   "source": [
    "'''Estandariza el nombre de los departamentos (ejemplo: \"Ventas\" y \"VENTAS\" deben ser lo mismo).\n",
    "Quita espacios extra en los nombres de empleados.'''\n",
    "\n",
    "empleados['departamento'] = empleados['departamento'].map(lambda x: x.lower())\n",
    "empleados['nombre'].str.strip()\n",
    "empleados[\"nombre\"] = empleados[\"nombre\"].str.replace(r\"\\s+\", \" \", regex=True)\n",
    "print(empleados)"
   ]
  },
  {
   "cell_type": "code",
   "execution_count": 263,
   "id": "55f1c1bb",
   "metadata": {},
   "outputs": [
    {
     "data": {
      "text/plain": [
       "'Revisa que las fechas sean válidas y corrige o elimina las erróneas (2018-13-40 es inválida).\\nConvierte la columna fecha_ingreso a tipo datetime.'"
      ]
     },
     "execution_count": 263,
     "metadata": {},
     "output_type": "execute_result"
    }
   ],
   "source": [
    "'''Revisa que las fechas sean válidas y corrige o elimina las erróneas (2018-13-40 es inválida).\n",
    "Convierte la columna fecha_ingreso a tipo datetime.'''\n",
    "\n"
   ]
  }
 ],
 "metadata": {
  "kernelspec": {
   "display_name": "Python 3",
   "language": "python",
   "name": "python3"
  },
  "language_info": {
   "codemirror_mode": {
    "name": "ipython",
    "version": 3
   },
   "file_extension": ".py",
   "mimetype": "text/x-python",
   "name": "python",
   "nbconvert_exporter": "python",
   "pygments_lexer": "ipython3",
   "version": "3.11.9"
  }
 },
 "nbformat": 4,
 "nbformat_minor": 5
}

{
 "cells": [
  {
   "cell_type": "markdown",
   "id": "762c7e67",
   "metadata": {},
   "source": [
    "Seleccionar todos los empleados cuyo nombre comienza con la letra \"A\":\n",
    "SELECT nombre_empleados\n",
    "FROM empleados\n",
    "WHERE nombre_empleados LIKE \"A%\";\n",
    "\n",
    "\n",
    "Listar las categorías que tienen más de 10 productos:\n",
    "SELECT categorias, COUNT(*)\n",
    "FROM articulos\n",
    "GROUP BY categorias\n",
    "HAVING COUNT(*) > 10;\n",
    "\n",
    "\n",
    "Obtener las ciudades con un promedio de ventas superior a $5,000, ordenadas de mayor a menor promedio:\n",
    "SELECT ciudad, AVG(venta)\n",
    "FROM ventas\n",
    "GROUP BY ciudad\n",
    "HAVING AVG(venta) > 5000\n",
    "ORDER BY AVG(venta) DESC;\n",
    "\n",
    "\n",
    "\n"
   ]
  }
 ],
 "metadata": {
  "language_info": {
   "name": "python"
  }
 },
 "nbformat": 4,
 "nbformat_minor": 5
}

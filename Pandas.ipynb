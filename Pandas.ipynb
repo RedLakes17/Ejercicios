{
 "cells": [
  {
   "cell_type": "code",
   "execution_count": 6,
   "id": "b26b95b0",
   "metadata": {},
   "outputs": [
    {
     "name": "stdout",
     "output_type": "stream",
     "text": [
      "   sepal length (cm)  sepal width (cm)  petal length (cm)  petal width (cm)\n",
      "0                5.1               3.5                1.4               0.2\n",
      "1                4.9               3.0                1.4               0.2\n",
      "2                4.7               3.2                1.3               0.2\n",
      "3                4.6               3.1                1.5               0.2\n",
      "4                5.0               3.6                1.4               0.2\n"
     ]
    }
   ],
   "source": [
    "from sklearn.datasets import load_iris\n",
    "import pandas as pd\n",
    "\n",
    "data = load_iris()\n",
    "df = pd.DataFrame(data.data, columns=data.feature_names)\n",
    "print(df.head())\n"
   ]
  },
  {
   "cell_type": "code",
   "execution_count": 7,
   "id": "ed0d06e6",
   "metadata": {},
   "outputs": [],
   "source": [
    "#Añade una columna llamada \"longitud_total\" que sea la suma del ancho y largo del sépalo.\n",
    "df['longitud_total']=df['sepal length (cm)'] + df['sepal width (cm)']\n",
    "#print(df)\n",
    "\n",
    "#Filtra las filas donde sepal length (cm) > 6.0.\n",
    "filtro1=df[df['sepal length (cm)'] > 6.0]\n",
    "#print(filtro1)\n",
    "\n",
    "#Calcula la media del petal width (cm) por tipo de flor (target).\n",
    "df['target']=data.target\n",
    "agrupar=df.groupby('target')['petal width (cm)'].mean()\n",
    "#print(agrupar)\n",
    "\n",
    "#Usa groupby() para encontrar el máximo de cada columna numérica por clase (target).\n",
    "agrupar2=df.groupby('target')['petal width (cm)'].max()\n",
    "#print(agrupar2)\n",
    "\n",
    "#Reemplaza los valores del target (0, 1, 2) por los nombres reales de las especies (setosa, versicolor, virginica).\n",
    "especie={0:'setosa', 1:'versiclor', 2:'virginica'}\n",
    "df['target']=df['target'].map(especie)\n",
    "#print(df.head)"
   ]
  },
  {
   "cell_type": "code",
   "execution_count": 8,
   "id": "e044b2af",
   "metadata": {},
   "outputs": [
    {
     "name": "stdout",
     "output_type": "stream",
     "text": [
      "   order_id customer_id  order_date   product     category  quantity  price  \\\n",
      "0      1001        C001  2024-01-05    Laptop  Electronics         1   1200   \n",
      "1      1002        C002  2024-01-06     Mouse  Electronics         2     25   \n",
      "2      1003        C001  2024-01-07      Desk    Furniture         1    200   \n",
      "3      1004        C003  2024-01-07     Chair    Furniture         4     75   \n",
      "4      1005        C004  2024-01-08   Monitor  Electronics         2    300   \n",
      "5      1006        C002  2024-01-09      Desk    Furniture         1    200   \n",
      "6      1007        C001  2024-01-10     Mouse  Electronics         1     25   \n",
      "7      1008        C005  2024-01-11  Keyboard  Electronics         1     45   \n",
      "8      1009        C005  2024-01-12    Laptop  Electronics         1   1200   \n",
      "9      1010        C003  2024-01-13   Monitor  Electronics         1    300   \n",
      "\n",
      "   total  \n",
      "0   1200  \n",
      "1     50  \n",
      "2    200  \n",
      "3    300  \n",
      "4    600  \n",
      "5    200  \n",
      "6     25  \n",
      "7     45  \n",
      "8   1200  \n",
      "9    300  \n"
     ]
    }
   ],
   "source": [
    "ventas = pd.read_csv('Ventas.csv')\n",
    "print(ventas)"
   ]
  },
  {
   "cell_type": "code",
   "execution_count": 9,
   "id": "9ebe57eb",
   "metadata": {},
   "outputs": [
    {
     "name": "stdout",
     "output_type": "stream",
     "text": [
      "Numero total de pedidos: 10\n",
      "Numero de clientes: 5\n",
      "   order_id customer_id  order_date   product     category  quantity  price  \\\n",
      "0      1001        C001  2024-01-05    Laptop  Electronics         1   1200   \n",
      "1      1002        C002  2024-01-06     Mouse  Electronics         2     25   \n",
      "2      1003        C001  2024-01-07      Desk    Furniture         1    200   \n",
      "3      1004        C003  2024-01-07     Chair    Furniture         4     75   \n",
      "4      1005        C004  2024-01-08   Monitor  Electronics         2    300   \n",
      "5      1006        C002  2024-01-09      Desk    Furniture         1    200   \n",
      "6      1007        C001  2024-01-10     Mouse  Electronics         1     25   \n",
      "7      1008        C005  2024-01-11  Keyboard  Electronics         1     45   \n",
      "8      1009        C005  2024-01-12    Laptop  Electronics         1   1200   \n",
      "9      1010        C003  2024-01-13   Monitor  Electronics         1    300   \n",
      "\n",
      "   total  discount  total_with_discount  \n",
      "0   1200    1080.0               1080.0  \n",
      "1     50      50.0                 50.0  \n",
      "2    200     200.0                200.0  \n",
      "3    300     300.0                285.0  \n",
      "4    600     540.0                540.0  \n",
      "5    200     200.0                200.0  \n",
      "6     25      25.0                 25.0  \n",
      "7     45      45.0                 45.0  \n",
      "8   1200    1080.0               1080.0  \n",
      "9    300     300.0                300.0  \n"
     ]
    }
   ],
   "source": [
    "print( 'Numero total de pedidos:',ventas.shape[0])\n",
    "print('Numero de clientes:',ventas['customer_id'].nunique())\n",
    "\n",
    "#Agregar discount\n",
    "import numpy as np\n",
    "ventas['discount'] = (np.where((ventas['category'] == 'Electronics') & (ventas['total'] > 500),\n",
    "                              ventas['total'] - ventas['total']*0.1 , ventas['total']))\n",
    "\n",
    "#Agregar discount\n",
    "ventas['total_with_discount'] = np.where((ventas['category'] == 'Furniture') & (ventas['quantity'] >= 2),\n",
    "                               ventas['discount'] - ventas['discount']*0.05, ventas['discount'])\n",
    "\n",
    "print(ventas)\n"
   ]
  },
  {
   "cell_type": "code",
   "execution_count": 10,
   "id": "88da0b05",
   "metadata": {},
   "outputs": [
    {
     "name": "stdout",
     "output_type": "stream",
     "text": [
      "C001\n"
     ]
    }
   ],
   "source": [
    "#Total vendido por categoria\n",
    "ventas.groupby('category')['total_with_discount'].sum()\n",
    "#Numero de pedidos por cliente\n",
    "ventas['customer_id'].value_counts()\n",
    "#Cliente con mayor gasto total\n",
    "print(ventas.groupby('customer_id')['total_with_discount'].sum().idxmax())\n"
   ]
  },
  {
   "cell_type": "code",
   "execution_count": 19,
   "id": "e16c015e",
   "metadata": {},
   "outputs": [
    {
     "data": {
      "text/html": [
       "<div>\n",
       "<style scoped>\n",
       "    .dataframe tbody tr th:only-of-type {\n",
       "        vertical-align: middle;\n",
       "    }\n",
       "\n",
       "    .dataframe tbody tr th {\n",
       "        vertical-align: top;\n",
       "    }\n",
       "\n",
       "    .dataframe thead th {\n",
       "        text-align: right;\n",
       "    }\n",
       "</style>\n",
       "<table border=\"1\" class=\"dataframe\">\n",
       "  <thead>\n",
       "    <tr style=\"text-align: right;\">\n",
       "      <th></th>\n",
       "      <th>order_id</th>\n",
       "      <th>customer_id</th>\n",
       "      <th>order_date</th>\n",
       "      <th>product</th>\n",
       "      <th>category</th>\n",
       "      <th>quantity</th>\n",
       "      <th>price</th>\n",
       "      <th>total</th>\n",
       "      <th>discount</th>\n",
       "      <th>total_with_discount</th>\n",
       "    </tr>\n",
       "  </thead>\n",
       "  <tbody>\n",
       "    <tr>\n",
       "      <th>8</th>\n",
       "      <td>1009</td>\n",
       "      <td>C005</td>\n",
       "      <td>2024-01-12</td>\n",
       "      <td>Laptop</td>\n",
       "      <td>Electronics</td>\n",
       "      <td>1</td>\n",
       "      <td>1200</td>\n",
       "      <td>1200</td>\n",
       "      <td>1080.0</td>\n",
       "      <td>1080.0</td>\n",
       "    </tr>\n",
       "  </tbody>\n",
       "</table>\n",
       "</div>"
      ],
      "text/plain": [
       "   order_id customer_id  order_date product     category  quantity  price  \\\n",
       "8      1009        C005  2024-01-12  Laptop  Electronics         1   1200   \n",
       "\n",
       "   total  discount  total_with_discount  \n",
       "8   1200    1080.0               1080.0  "
      ]
     },
     "execution_count": 19,
     "metadata": {},
     "output_type": "execute_result"
    }
   ],
   "source": [
    "#Todos los pedidos con fecha después del 2024-01-08 y total mayor a 300\n",
    "ventas[(ventas['order_date'] > '2024-01-08') & (ventas['total_with_discount']>300)]"
   ]
  }
 ],
 "metadata": {
  "kernelspec": {
   "display_name": "Python 3",
   "language": "python",
   "name": "python3"
  },
  "language_info": {
   "codemirror_mode": {
    "name": "ipython",
    "version": 3
   },
   "file_extension": ".py",
   "mimetype": "text/x-python",
   "name": "python",
   "nbconvert_exporter": "python",
   "pygments_lexer": "ipython3",
   "version": "3.11.9"
  }
 },
 "nbformat": 4,
 "nbformat_minor": 5
}

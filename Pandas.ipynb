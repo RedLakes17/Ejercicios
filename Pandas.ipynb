{
 "cells": [
  {
   "cell_type": "code",
   "execution_count": 4,
   "id": "b26b95b0",
   "metadata": {},
   "outputs": [
    {
     "name": "stdout",
     "output_type": "stream",
     "text": [
      "   sepal length (cm)  sepal width (cm)  petal length (cm)  petal width (cm)\n",
      "0                5.1               3.5                1.4               0.2\n",
      "1                4.9               3.0                1.4               0.2\n",
      "2                4.7               3.2                1.3               0.2\n",
      "3                4.6               3.1                1.5               0.2\n",
      "4                5.0               3.6                1.4               0.2\n"
     ]
    }
   ],
   "source": [
    "from sklearn.datasets import load_iris\n",
    "import pandas as pd\n",
    "\n",
    "data = load_iris()\n",
    "df = pd.DataFrame(data.data, columns=data.feature_names)\n",
    "print(df.head())\n"
   ]
  },
  {
   "cell_type": "code",
   "execution_count": 23,
   "id": "ed0d06e6",
   "metadata": {},
   "outputs": [],
   "source": [
    "#Añade una columna llamada \"longitud_total\" que sea la suma del ancho y largo del sépalo.\n",
    "df['longitud_total']=df['sepal length (cm)'] + df['sepal width (cm)']\n",
    "#print(df)\n",
    "\n",
    "#Filtra las filas donde sepal length (cm) > 6.0.\n",
    "filtro1=df[df['sepal length (cm)'] > 6.0]\n",
    "#print(filtro1)\n",
    "\n",
    "#Calcula la media del petal width (cm) por tipo de flor (target).\n",
    "df['target']=data.target\n",
    "agrupar=df.groupby('target')['petal width (cm)'].mean()\n",
    "#print(agrupar)\n",
    "\n",
    "#Usa groupby() para encontrar el máximo de cada columna numérica por clase (target).\n",
    "agrupar2=df.groupby('target')['petal width (cm)'].max()\n",
    "#print(agrupar2)\n",
    "\n",
    "#Reemplaza los valores del target (0, 1, 2) por los nombres reales de las especies (setosa, versicolor, virginica).\n",
    "especie={0:'setosa', 1:'versiclor', 2:'virginica'}\n",
    "df['target']=df['target'].map(especie)\n",
    "#print(df.head)"
   ]
  }
 ],
 "metadata": {
  "kernelspec": {
   "display_name": "Python 3",
   "language": "python",
   "name": "python3"
  },
  "language_info": {
   "codemirror_mode": {
    "name": "ipython",
    "version": 3
   },
   "file_extension": ".py",
   "mimetype": "text/x-python",
   "name": "python",
   "nbconvert_exporter": "python",
   "pygments_lexer": "ipython3",
   "version": "3.11.9"
  }
 },
 "nbformat": 4,
 "nbformat_minor": 5
}

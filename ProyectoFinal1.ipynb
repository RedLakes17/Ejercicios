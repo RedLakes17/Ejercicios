{
 "cells": [
  {
   "cell_type": "markdown",
   "id": "73af0e33",
   "metadata": {},
   "source": [
    "Proyecto Final – MeIA 2025 Semana 1"
   ]
  },
  {
   "cell_type": "code",
   "execution_count": 153,
   "id": "b00a739a",
   "metadata": {},
   "outputs": [],
   "source": [
    "from sklearn.datasets import load_iris\n",
    "import pandas as pd\n",
    "\n",
    "# Cargar los datos como DataFrame\n",
    "iris = load_iris(as_frame=True)\n",
    "df = iris.frame\n",
    "\n",
    "# Renombrar columnas por claridad si lo deseas\n",
    "df.columns = [col.lower().replace(\" (cm)\", \"\").replace(\" \", \"_\") for col in df.columns]\n",
    "\n",
    "# Extraer las variables necesarias\n",
    "x = df[['sepal_width', 'petal_width', 'sepal_length']]  # Variables independientes\n",
    "y = df['petal_length']  # Variable dependiente"
   ]
  },
  {
   "cell_type": "code",
   "execution_count": 154,
   "id": "ddebd5bc",
   "metadata": {},
   "outputs": [
    {
     "name": "stdout",
     "output_type": "stream",
     "text": [
      "   sepal_length  sepal_width  petal_length  petal_width  target\n",
      "0           5.1          3.5           1.4          0.2       0\n",
      "1           4.9          3.0           1.4          0.2       0\n",
      "2           4.7          3.2           1.3          0.2       0\n",
      "3           4.6          3.1           1.5          0.2       0\n",
      "4           5.0          3.6           1.4          0.2       0\n",
      "(150, 5)\n"
     ]
    }
   ],
   "source": [
    "print(df.head())\n",
    "print(df.shape)\n"
   ]
  },
  {
   "cell_type": "code",
   "execution_count": 155,
   "id": "f194f752",
   "metadata": {},
   "outputs": [
    {
     "name": "stdout",
     "output_type": "stream",
     "text": [
      "Funcion de costo MSE: 27.34823333333334\n",
      "Funcion de costo MSE: 8.35087445397199\n",
      "Funcion de costo MSE: 2.9272137320147893\n",
      "Funcion de costo MSE: 1.3739109470014086\n",
      "Funcion de costo MSE: 0.9242555334463434\n",
      "Funcion de costo MSE: 0.7893752001529221\n",
      "Funcion de costo MSE: 0.7443378575599089\n",
      "Funcion de costo MSE: 0.7250074627982432\n",
      "Funcion de costo MSE: 0.7130956984164013\n",
      "Funcion de costo MSE: 0.7033868063030864\n",
      "Funcion de costo MSE: 0.6943924183235798\n",
      "Funcion de costo MSE: 0.6856869719338736\n",
      "Funcion de costo MSE: 0.677147958144681\n",
      "Funcion de costo MSE: 0.6687392935244247\n",
      "Funcion de costo MSE: 0.6604495529309773\n",
      "Funcion de costo MSE: 0.6522743576199879\n",
      "Funcion de costo MSE: 0.6442113533598868\n",
      "Funcion de costo MSE: 0.6362587783330539\n",
      "Funcion de costo MSE: 0.628415054594088\n",
      "Funcion de costo MSE: 0.6206786713773185\n",
      "Funcion de costo MSE: 0.6130481516219888\n",
      "Funcion de costo MSE: 0.6055220422280297\n",
      "Funcion de costo MSE: 0.598098911080866\n",
      "Funcion de costo MSE: 0.5907773460089718\n",
      "Funcion de costo MSE: 0.5835559542951739\n",
      "Funcion de costo MSE: 0.5764333623484713\n",
      "Funcion de costo MSE: 0.5694082154242108\n",
      "Funcion de costo MSE: 0.5624791773606069\n",
      "Funcion de costo MSE: 0.5556449303224417\n",
      "Funcion de costo MSE: 0.5489041745492946\n",
      "Funcion de costo MSE: 0.5422556281075173\n",
      "Funcion de costo MSE: 0.5356980266456911\n",
      "Funcion de costo MSE: 0.5292301231534647\n",
      "Funcion de costo MSE: 0.5228506877237042\n",
      "Funcion de costo MSE: 0.5165585073179072\n",
      "Funcion de costo MSE: 0.5103523855348376\n",
      "Funcion de costo MSE: 0.5042311423823308\n",
      "Funcion de costo MSE: 0.49819361405223034\n",
      "Funcion de costo MSE: 0.4922386526984119\n",
      "Funcion de costo MSE: 0.48636512621785055\n",
      "Funcion de costo MSE: 0.4805719180346927\n",
      "Funcion de costo MSE: 0.4748579268872875\n",
      "Funcion de costo MSE: 0.469222066618141\n",
      "Funcion de costo MSE: 0.4636632659667506\n",
      "Funcion de costo MSE: 0.45818046836528065\n",
      "Funcion de costo MSE: 0.45277263173704174\n",
      "Funcion de costo MSE: 0.447438728297732\n",
      "Funcion de costo MSE: 0.44217774435940693\n",
      "Funcion de costo MSE: 0.4369886801371356\n",
      "Funcion de costo MSE: 0.431870549558311\n"
     ]
    }
   ],
   "source": [
    "#Inicializamos los pesos y el sesgo\n",
    "import numpy as np\n",
    "W=np.array([1,1,1])\n",
    "b=np.array([1])\n",
    "N=df.shape[0] #Numero de registros, 150 en este caso\n",
    "\n",
    "\n",
    "for epocas in range(50):\n",
    "\n",
    "    #Calculamos las predicciones y'\n",
    "    Predicciones=np.array([])\n",
    "    for i in range(N):\n",
    "        prediccion = np.sum(W * x.iloc[i].to_numpy()) + b\n",
    "        Predicciones = np.append(Predicciones, prediccion)\n",
    "\n",
    "\n",
    "    #Calculamos la funcion de costo MSE = f\n",
    "    Dif=np.array([]) #La diferencia y'- y\n",
    "    for j in range(N):\n",
    "        diferencia = Predicciones[j] - (y.iloc[j])\n",
    "        Dif = np.append(Dif, diferencia)\n",
    "    Dif_square = Dif * Dif\n",
    "    MSE = (1/(2*N))*np.sum(Dif_square)\n",
    "    print('Funcion de costo MSE:', MSE)\n",
    "\n",
    "    #Calculamos las derivadas parciales df/db, df/dwj\n",
    "    df_db = (1 / N) * np.sum(Dif)\n",
    "\n",
    "    df_dw = np.array([0.0, 0.0, 0.0])\n",
    "    for i in range(N):\n",
    "        xi = x.iloc[i].to_numpy()\n",
    "        df_dw = df_dw + Dif[i] * xi\n",
    "    df_dw = (1 / N) * df_dw\n",
    "\n",
    "\n",
    "    #Actualizamos los parametros\n",
    "    lr=0.01\n",
    "    W = W - lr*df_dw\n",
    "    b = b - lr*df_db\n",
    "\n"
   ]
  }
 ],
 "metadata": {
  "kernelspec": {
   "display_name": "Python 3",
   "language": "python",
   "name": "python3"
  },
  "language_info": {
   "codemirror_mode": {
    "name": "ipython",
    "version": 3
   },
   "file_extension": ".py",
   "mimetype": "text/x-python",
   "name": "python",
   "nbconvert_exporter": "python",
   "pygments_lexer": "ipython3",
   "version": "3.11.9"
  }
 },
 "nbformat": 4,
 "nbformat_minor": 5
}

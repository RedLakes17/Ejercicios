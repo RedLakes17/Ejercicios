{
 "cells": [
  {
   "cell_type": "markdown",
   "id": "73af0e33",
   "metadata": {},
   "source": [
    "Proyecto Final – MeIA 2025 Semana 1"
   ]
  },
  {
   "cell_type": "code",
   "execution_count": 6,
   "id": "b00a739a",
   "metadata": {},
   "outputs": [],
   "source": [
    "from sklearn.datasets import load_iris\n",
    "import pandas as pd\n",
    "\n",
    "# Cargar los datos como DataFrame\n",
    "iris = load_iris(as_frame=True)\n",
    "df = iris.frame\n",
    "\n",
    "# Renombrar columnas por claridad si lo deseas\n",
    "df.columns = [col.lower().replace(\" (cm)\", \"\").replace(\" \", \"_\") for col in df.columns]\n",
    "\n",
    "# Extraer las variables necesarias\n",
    "x = df[['sepal_width', 'petal_width', 'sepal_length']]  # Variables independientes\n",
    "y = df['petal_length']  # Variable dependiente"
   ]
  },
  {
   "cell_type": "code",
   "execution_count": null,
   "id": "ddebd5bc",
   "metadata": {},
   "outputs": [
    {
     "name": "stdout",
     "output_type": "stream",
     "text": [
      "target\n",
      "0    50\n",
      "1    50\n",
      "2    50\n",
      "Name: count, dtype: int64\n"
     ]
    }
   ],
   "source": []
  }
 ],
 "metadata": {
  "kernelspec": {
   "display_name": "Python 3",
   "language": "python",
   "name": "python3"
  },
  "language_info": {
   "codemirror_mode": {
    "name": "ipython",
    "version": 3
   },
   "file_extension": ".py",
   "mimetype": "text/x-python",
   "name": "python",
   "nbconvert_exporter": "python",
   "pygments_lexer": "ipython3",
   "version": "3.11.9"
  }
 },
 "nbformat": 4,
 "nbformat_minor": 5
}

{
 "cells": [
  {
   "cell_type": "code",
   "execution_count": 3,
   "id": "5b337ce1",
   "metadata": {},
   "outputs": [
    {
     "data": {
      "text/plain": [
       "{'id': 318320289, 'text': 'Antonio Rojas'}"
      ]
     },
     "execution_count": 3,
     "metadata": {},
     "output_type": "execute_result"
    }
   ],
   "source": [
    "#Define una clase Token que reciba en su constructor id (entero) y text (cadena).\n",
    "#Añade métodos como to_dict() que devuelva un diccionario con sus atributos, y un __str__() que formatee la representación como <Token id=… text=…>.\n",
    "class Token():\n",
    "    def __init__(self, id, text):\n",
    "        self.id = id\n",
    "        self.text = text\n",
    "    \n",
    "    def to_dict(self):\n",
    "        return {'id':self.id, 'text':self.text}\n",
    "    \n",
    "    def __str__(self):\n",
    "        return f\"<Token_id={self.id} text={self.text}>\"\n",
    "    \n",
    "registro1=Token(318320289, 'Antonio Rojas')\n",
    "\n",
    "#Atributos\n",
    "registro1.text\n",
    "registro1.id\n",
    "\n",
    "#Metodos\n",
    "registro1.to_dict()\n"
   ]
  },
  {
   "cell_type": "code",
   "execution_count": 4,
   "id": "bf548709",
   "metadata": {},
   "outputs": [
    {
     "name": "stdout",
     "output_type": "stream",
     "text": [
      "torch.Size([1, 4])\n"
     ]
    },
    {
     "data": {
      "text/plain": [
       "tensor([[0.9431, 2.7672]], grad_fn=<ReluBackward0>)"
      ]
     },
     "execution_count": 4,
     "metadata": {},
     "output_type": "execute_result"
    }
   ],
   "source": [
    "#Crea una clase CustomLinear que herede de torch.nn.Module.\n",
    "#En el __init__ define un nn.Linear(input_dim, output_dim)\n",
    "#En forward(x), aplica la capa y una activación (F.relu).\n",
    "import torch\n",
    "import torch.nn as nn\n",
    "import torch.nn.functional as F\n",
    "\n",
    "class CustomLinear(nn.Module):\n",
    "    def __init__(self, input_dim, output_dim):\n",
    "        super().__init__()\n",
    "        self.LL1= nn.Linear(input_dim, output_dim)\n",
    "    def forward(self, x):\n",
    "        x= self.LL1(x)\n",
    "        x= F.relu(x)\n",
    "        return x\n",
    "\n",
    "red1=CustomLinear(4,2)\n",
    "x=torch.tensor([1,2,3,4], dtype=torch.float32).unsqueeze(0)\n",
    "print(x.shape)\n",
    "red1.forward(x)"
   ]
  },
  {
   "cell_type": "code",
   "execution_count": 12,
   "id": "021ad059",
   "metadata": {},
   "outputs": [],
   "source": [
    "#Usando nn.Module, crea TransformerBlock que incorpore internamente:\n",
    "#Un nn.MultiheadAttention\n",
    "#Una subclase PositionWiseFeedForward (dos nn.Linear + ReLU) \n",
    "#En forward, ejecuta atención seguida de feed-forward, con conexiones residuales y normalización (puedes usar nn.LayerNorm).\n",
    "#Instancia y pasa tensores de prueba para verificar dimensiones.\n",
    "\n",
    "        \n",
    "class PositionWiseFeedForward(nn.Module):\n",
    "    def __init__(self, embed_dim, hidden_dim):\n",
    "        super().__init__()\n",
    "        self.LL1=nn.Linear(embed_dim,hidden_dim)\n",
    "        self.act1=nn.ReLU()\n",
    "        self.LL2=nn.Linear(hidden_dim,embed_dim)\n",
    "    \n",
    "    def forward(self,x):\n",
    "        x = self.LL1(x)\n",
    "        x = self.act1(x)\n",
    "        x = self.LL2(x)\n",
    "        return x\n"
   ]
  }
 ],
 "metadata": {
  "kernelspec": {
   "display_name": "Python 3",
   "language": "python",
   "name": "python3"
  },
  "language_info": {
   "codemirror_mode": {
    "name": "ipython",
    "version": 3
   },
   "file_extension": ".py",
   "mimetype": "text/x-python",
   "name": "python",
   "nbconvert_exporter": "python",
   "pygments_lexer": "ipython3",
   "version": "3.11.9"
  }
 },
 "nbformat": 4,
 "nbformat_minor": 5
}
